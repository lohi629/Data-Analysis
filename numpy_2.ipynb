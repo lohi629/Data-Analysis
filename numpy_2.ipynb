{
 "cells": [
  {
   "cell_type": "code",
   "execution_count": 31,
   "id": "e4418c24",
   "metadata": {},
   "outputs": [
    {
     "name": "stdout",
     "output_type": "stream",
     "text": [
      "[[1 2 3]\n",
      " [2 5 8]]\n"
     ]
    }
   ],
   "source": [
    "import numpy as np\n",
    "import pandas as pd\n",
    "arr=np.array([[1,2,3],[2,5,8]])\n",
    "print(arr)\n"
   ]
  },
  {
   "cell_type": "code",
   "execution_count": 17,
   "id": "540b6dec",
   "metadata": {},
   "outputs": [
    {
     "name": "stdout",
     "output_type": "stream",
     "text": [
      "transpose: [[1 2]\n",
      " [2 5]\n",
      " [3 8]]\n",
      "fLR: [[3 2 1]\n",
      " [8 5 2]]\n",
      "updown: [[2 5 8]\n",
      " [1 2 3]]\n",
      "rotate: [[2 1]\n",
      " [5 2]\n",
      " [8 3]]\n"
     ]
    }
   ],
   "source": [
    "#transpose\n",
    "print(\"transpose:\",arr.T)\n",
    "#flipLR\n",
    "print(\"fLR:\",np.fliplr(arr))\n",
    "#flipUD\n",
    "print(\"updown:\",np.flipud(arr))\n",
    "#rotate 90\n",
    "print(\"rotate:\",np.rot90(arr,3))"
   ]
  },
  {
   "cell_type": "code",
   "execution_count": 39,
   "id": "580a37aa",
   "metadata": {},
   "outputs": [
    {
     "name": "stdout",
     "output_type": "stream",
     "text": [
      "vs: [[ 1  2]\n",
      " [ 3  4]\n",
      " [10 11]\n",
      " [12 13]]\n",
      "hs: [[ 1  2 10 11]\n",
      " [ 3  4 12 13]]\n",
      "con: [[ 1  2]\n",
      " [ 3  4]\n",
      " [10 11]\n",
      " [12 13]]\n",
      "app: [ 1  2  3  4 10 11 12 13]\n"
     ]
    }
   ],
   "source": [
    "#stacking\n",
    "arr1=np.array([[1,2],[3,4]])\n",
    "arr2=np.array([[10,11],[12,13]])\n",
    "vs=np.vstack((arr1,arr2))\n",
    "print(\"vs:\",vs)\n",
    "hs=np.hstack((arr1,arr2))\n",
    "print(\"hs:\",hs)\n",
    "#concatenation\n",
    "con=np.concatenate((arr1,arr2))\n",
    "print(\"con:\",con)\n",
    "app=np.append(arr1,arr2)\n",
    "print(\"app:\",app)"
   ]
  },
  {
   "cell_type": "code",
   "execution_count": 57,
   "id": "0db70a80",
   "metadata": {},
   "outputs": [
    {
     "name": "stdout",
     "output_type": "stream",
     "text": [
      "cos: 0.5000000000000001\n",
      "sin: [0.30901699 0.10452846 0.06975647 0.05233596 0.0348995 ]\n",
      "tan: [0.3249197  0.10510424 0.06992681 0.05240778 0.03492077]\n",
      "cosh: [1.10132329e+04 5.34323729e+12 1.74671355e+19 5.71003695e+25\n",
      " 6.10201647e+38]\n",
      "sqrt: [3.16227766 5.47722558 6.70820393 7.74596669 9.48683298]\n",
      "exp: [2.20264658e+04 1.06864746e+13 3.49342711e+19 1.14200739e+26\n",
      " 1.22040329e+39]\n",
      "log: [2.30258509 3.40119738 3.80666249 4.09434456 4.49980967]\n"
     ]
    }
   ],
   "source": [
    "#mathematical functions\n",
    "arr1=np.array([10,30,45,60,90])\n",
    "print(\"cos:\",np.cos((np.pi/3)))\n",
    "print(\"sin:\",np.sin((np.pi/arr1)))\n",
    "print(\"tan:\",np.tan((np.pi/arr1)))\n",
    "print(\"cosh:\",np.cosh(arr1))\n",
    "print(\"sqrt:\",np.sqrt(arr1))\n",
    "print(\"exp:\",np.exp(arr1))\n",
    "print(\"log:\",np.log(arr1))"
   ]
  },
  {
   "cell_type": "code",
   "execution_count": 63,
   "id": "1ef6fb2d",
   "metadata": {},
   "outputs": [
    {
     "name": "stdout",
     "output_type": "stream",
     "text": [
      "addition: [12 22 32]\n",
      "sub: [ 8 18 28]\n",
      "multiply: [20 40 60]\n",
      "divide: [ 5. 10. 15.]\n",
      "power: [100 400 900]\n",
      "remainder: [0 0 0]\n",
      "reciprocal: [0.1        0.05       0.03333333]\n"
     ]
    }
   ],
   "source": [
    "#mathematical operations\n",
    "arr1=np.array([10,20,30])\n",
    "arr2=np.array([2,2,2])\n",
    "print(\"addition:\",np.add(arr1,arr2))\n",
    "print(\"sub:\",np.subtract(arr1,arr2))\n",
    "print(\"multiply:\",np.multiply(arr1,arr2))\n",
    "print(\"divide:\",np.divide(arr1,arr2))\n",
    "print(\"power:\",np.power(arr1,arr2))\n",
    "print(\"remainder:\",np.remainder(arr1,arr2))\n",
    "print(\"reciprocal:\",np.reciprocal(arr1,dtype=float))\n"
   ]
  },
  {
   "cell_type": "code",
   "execution_count": 69,
   "id": "3e943a9b",
   "metadata": {},
   "outputs": [
    {
     "name": "stdout",
     "output_type": "stream",
     "text": [
      "mean: 20.0\n",
      "var: 66.66666666666667\n",
      "std: 8.16496580927726\n",
      "sum: 60\n",
      "prd: 6000\n",
      "all: True\n",
      "any: True\n",
      "cumsum: [10 30 60]\n",
      "min index: 0\n",
      "max index: 2\n"
     ]
    }
   ],
   "source": [
    "#aggregates\n",
    "print(\"mean:\",np.mean(arr1))\n",
    "print(\"var:\",np.var(arr1))\n",
    "print(\"std:\",np.std(arr1))\n",
    "print(\"sum:\",np.sum(arr1))\n",
    "print(\"prd:\",np.prod(arr1))\n",
    "print(\"all:\",np.all(arr1))\n",
    "print(\"any:\",np.any(arr1))\n",
    "print(\"cumsum:\",np.cumsum(arr1))\n",
    "print(\"min index:\",np.argmin(arr1))\n",
    "print(\"max index:\",np.argmax(arr1))"
   ]
  },
  {
   "cell_type": "code",
   "execution_count": 76,
   "id": "2457c753",
   "metadata": {},
   "outputs": [
    {
     "name": "stdout",
     "output_type": "stream",
     "text": [
      "(array([0], dtype=int64),)\n"
     ]
    }
   ],
   "source": [
    "#where\n",
    "arr4=np.array([12,3,4])\n",
    "g=np.where((arr4>10)&(arr4%2==0))\n",
    "print(g)"
   ]
  },
  {
   "cell_type": "code",
   "execution_count": 89,
   "id": "807883cc",
   "metadata": {},
   "outputs": [
    {
     "name": "stdout",
     "output_type": "stream",
     "text": [
      "[ True  True  True  True]\n",
      "[False  True False False]\n",
      "[ True False False False]\n"
     ]
    }
   ],
   "source": [
    "#logical \n",
    "arr5=np.array([10,20,30,40])\n",
    "print(np.logical_or(arr5>10,arr5<30))\n",
    "print(np.logical_and(arr5>10,arr5<30))\n",
    "print(np.logical_not(arr5>10))"
   ]
  },
  {
   "cell_type": "code",
   "execution_count": 92,
   "id": "7f4fa37f",
   "metadata": {},
   "outputs": [
    {
     "name": "stdout",
     "output_type": "stream",
     "text": [
      "union: [ 3  4 10 12 20 30 40]\n",
      "inters: []\n",
      "diff: [ 3  4 12]\n"
     ]
    }
   ],
   "source": [
    "#sets\n",
    "print(\"union:\",np.union1d(arr4,arr5))\n",
    "print(\"inters:\",np.intersect1d(arr4,arr5))\n",
    "print(\"diff:\",np.setdiff1d(arr4,arr5))"
   ]
  },
  {
   "cell_type": "code",
   "execution_count": null,
   "id": "7af5cf59",
   "metadata": {},
   "outputs": [],
   "source": []
  }
 ],
 "metadata": {
  "kernelspec": {
   "display_name": "Python 3 (ipykernel)",
   "language": "python",
   "name": "python3"
  },
  "language_info": {
   "codemirror_mode": {
    "name": "ipython",
    "version": 3
   },
   "file_extension": ".py",
   "mimetype": "text/x-python",
   "name": "python",
   "nbconvert_exporter": "python",
   "pygments_lexer": "ipython3",
   "version": "3.9.7"
  }
 },
 "nbformat": 4,
 "nbformat_minor": 5
}
