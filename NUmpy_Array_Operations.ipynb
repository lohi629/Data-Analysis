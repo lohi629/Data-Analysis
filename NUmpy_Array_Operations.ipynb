{
 "cells": [
  {
   "cell_type": "code",
   "execution_count": 83,
   "id": "f6269949",
   "metadata": {},
   "outputs": [
    {
     "name": "stdout",
     "output_type": "stream",
     "text": [
      "[1 2 3 4 5]\n",
      "[[1 2 3]\n",
      " [4 5 6]\n",
      " [7 8 9]]\n",
      "[[[1 2 3]\n",
      "  [4 5 6]]\n",
      "\n",
      " [[1 2 3]\n",
      "  [4 5 6]]]\n",
      "dim1: 1 dim2: 2 dim3: 3\n"
     ]
    }
   ],
   "source": [
    "import numpy as np\n",
    "first_d=np.array([1,2,3,4,5])\n",
    "sec_d=np.array([[1,2,3],[4,5,6],[7,8,9]])\n",
    "thr_d=np.array([[[1,2,3],[4,5,6]],[[1,2,3],[4,5,6]]])\n",
    "print(first_d,sec_d,thr_d,sep=\"\\n\")\n",
    "#get dimension\n",
    "print(\"dim1:\",first_d.ndim,\"dim2:\",sec_d.ndim,\"dim3:\",thr_d.ndim)"
   ]
  },
  {
   "cell_type": "code",
   "execution_count": 16,
   "id": "09260f26",
   "metadata": {},
   "outputs": [
    {
     "name": "stdout",
     "output_type": "stream",
     "text": [
      "[[1]\n",
      " [2]\n",
      " [3]\n",
      " [4]\n",
      " [5]]\n",
      "2\n",
      "(5, 1)\n"
     ]
    }
   ],
   "source": [
    "#reshape\n",
    "first_d=first_d.reshape(5,1)\n",
    "print(first_d,first_d.ndim,first_d.shape,sep=\"\\n\")"
   ]
  },
  {
   "cell_type": "code",
   "execution_count": 19,
   "id": "bc2fb58a",
   "metadata": {},
   "outputs": [
    {
     "name": "stdout",
     "output_type": "stream",
     "text": [
      "[1 2 3 4 5 6]\n",
      "<class 'numpy.ndarray'>\n",
      "[ 7  8  9 10]\n",
      "<class 'numpy.ndarray'>\n"
     ]
    }
   ],
   "source": [
    "#converting list or tuple into array\n",
    "l=[1,2,3,4,5,6]\n",
    "l_a=np.array(l)\n",
    "print(l_a)\n",
    "print(type(l_a))\n",
    "p=(7,8,9,10)\n",
    "t_a=np.array(p)\n",
    "print(t_a,type(t_a),sep=\"\\n\")"
   ]
  },
  {
   "cell_type": "code",
   "execution_count": 20,
   "id": "187a4edc",
   "metadata": {},
   "outputs": [
    {
     "name": "stdout",
     "output_type": "stream",
     "text": [
      "[0 1 2 3 4 5 6 7 8 9]\n"
     ]
    }
   ],
   "source": [
    "#arange\n",
    "p=np.arange(10)\n",
    "print(p)"
   ]
  },
  {
   "cell_type": "code",
   "execution_count": 29,
   "id": "07ec195e",
   "metadata": {},
   "outputs": [
    {
     "data": {
      "text/plain": [
       "array([ 0,  2,  4,  6,  8, 11, 13, 15, 17, 20])"
      ]
     },
     "execution_count": 29,
     "metadata": {},
     "output_type": "execute_result"
    }
   ],
   "source": [
    "#linspace\n",
    "lins=np.linspace(0,20,num=10,dtype=\"int\")\n",
    "lins"
   ]
  },
  {
   "cell_type": "code",
   "execution_count": 36,
   "id": "94774ce5",
   "metadata": {},
   "outputs": [
    {
     "data": {
      "text/plain": [
       "array([1., 1.])"
      ]
     },
     "execution_count": 36,
     "metadata": {},
     "output_type": "execute_result"
    }
   ],
   "source": [
    "#logspace\n",
    "logs=np.logspace(1,10,num=2,base=1)\n",
    "logs"
   ]
  },
  {
   "cell_type": "code",
   "execution_count": 41,
   "id": "5864e000",
   "metadata": {},
   "outputs": [
    {
     "name": "stdout",
     "output_type": "stream",
     "text": [
      "[[2]\n",
      " [2]\n",
      " [2]\n",
      " [2]\n",
      " [2]]\n"
     ]
    }
   ],
   "source": [
    "#full array\n",
    "full=np.full((5,1),2)\n",
    "print(full)"
   ]
  },
  {
   "cell_type": "code",
   "execution_count": 43,
   "id": "0c5a99d9",
   "metadata": {},
   "outputs": [
    {
     "name": "stdout",
     "output_type": "stream",
     "text": [
      "[[1. 0. 0.]\n",
      " [0. 1. 0.]]\n"
     ]
    }
   ],
   "source": [
    "#eye array\n",
    "eye=np.eye(2,3)\n",
    "print(eye)"
   ]
  },
  {
   "cell_type": "code",
   "execution_count": 53,
   "id": "65a2c264",
   "metadata": {},
   "outputs": [
    {
     "name": "stdout",
     "output_type": "stream",
     "text": [
      "[[0.20284755 0.62534016 0.79992564]\n",
      " [0.19047714 0.95611378 0.14475905]]\n",
      "[[ 1.8091139  -0.89823595 -0.96874225]\n",
      " [-1.25715098 -1.15853478 -0.25064178]]\n",
      "[[0 1]\n",
      " [1 1]\n",
      " [1 0]\n",
      " [1 1]\n",
      " [0 0]]\n"
     ]
    }
   ],
   "source": [
    "#random array\n",
    "rand=np.random.rand(2,3)\n",
    "print(rand)\n",
    "rand2=np.random.randn(2,3)\n",
    "print(rand2)\n",
    "rand3=np.random.randint(2,size=(5,2))\n",
    "print(rand3)"
   ]
  },
  {
   "cell_type": "code",
   "execution_count": 68,
   "id": "7466bbf1",
   "metadata": {},
   "outputs": [
    {
     "name": "stdout",
     "output_type": "stream",
     "text": [
      "[[1. 0. 0.]\n",
      " [0. 1. 0.]\n",
      " [0. 0. 1.]]\n"
     ]
    },
    {
     "data": {
      "text/plain": [
       "array([3])"
      ]
     },
     "execution_count": 68,
     "metadata": {},
     "output_type": "execute_result"
    }
   ],
   "source": [
    "#identity\n",
    "id=np.identity(3)\n",
    "print(id)\n",
    "#diagnol\n",
    "diag=np.diag(sec_d,k=2)\n",
    "diag"
   ]
  },
  {
   "cell_type": "code",
   "execution_count": 85,
   "id": "0747af62",
   "metadata": {},
   "outputs": [
    {
     "name": "stdout",
     "output_type": "stream",
     "text": [
      "[[[1 2 3]\n",
      "  [4 5 6]]\n",
      "\n",
      " [[1 2 3]\n",
      "  [4 5 6]]]\n",
      "5\n"
     ]
    }
   ],
   "source": [
    "#indexing in multi-D\n",
    "print(thr_d)\n",
    "p=thr_d[0,1,1]\n",
    "print(p)"
   ]
  },
  {
   "cell_type": "code",
   "execution_count": 93,
   "id": "1d5bd3e0",
   "metadata": {},
   "outputs": [
    {
     "name": "stdout",
     "output_type": "stream",
     "text": [
      "[3]\n",
      "[[4 5 6]\n",
      " [7 8 9]]\n",
      "[[[1 2 3]\n",
      "  [4 5 6]]]\n"
     ]
    }
   ],
   "source": [
    "#1d array slicing\n",
    "print(first_d[2:3])\n",
    "#2d array slicing\n",
    "print(sec_d[1:4])\n",
    "#3d array slicing\n",
    "print(thr_d[1:4])"
   ]
  },
  {
   "cell_type": "code",
   "execution_count": null,
   "id": "6ab397ba",
   "metadata": {},
   "outputs": [],
   "source": []
  }
 ],
 "metadata": {
  "kernelspec": {
   "display_name": "Python 3 (ipykernel)",
   "language": "python",
   "name": "python3"
  },
  "language_info": {
   "codemirror_mode": {
    "name": "ipython",
    "version": 3
   },
   "file_extension": ".py",
   "mimetype": "text/x-python",
   "name": "python",
   "nbconvert_exporter": "python",
   "pygments_lexer": "ipython3",
   "version": "3.9.7"
  }
 },
 "nbformat": 4,
 "nbformat_minor": 5
}
